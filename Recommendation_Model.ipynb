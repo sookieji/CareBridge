{
 "cells": [
  {
   "cell_type": "code",
   "execution_count": 1,
   "id": "53ebf7c9",
   "metadata": {},
   "outputs": [],
   "source": [
    "import pandas as pd \n",
    "from sklearn.metrics.pairwise import cosine_similarity"
   ]
  },
  {
   "cell_type": "code",
   "execution_count": 2,
   "id": "3c368639",
   "metadata": {},
   "outputs": [],
   "source": [
    "df = pd.read_csv('Provider Rating Data.csv')"
   ]
  },
  {
   "cell_type": "code",
   "execution_count": 3,
   "id": "27aa9cc8",
   "metadata": {},
   "outputs": [
    {
     "data": {
      "text/html": [
       "<div>\n",
       "<style scoped>\n",
       "    .dataframe tbody tr th:only-of-type {\n",
       "        vertical-align: middle;\n",
       "    }\n",
       "\n",
       "    .dataframe tbody tr th {\n",
       "        vertical-align: top;\n",
       "    }\n",
       "\n",
       "    .dataframe thead th {\n",
       "        text-align: right;\n",
       "    }\n",
       "</style>\n",
       "<table border=\"1\" class=\"dataframe\">\n",
       "  <thead>\n",
       "    <tr style=\"text-align: right;\">\n",
       "      <th></th>\n",
       "      <th>NPI</th>\n",
       "      <th>PAC ID</th>\n",
       "      <th>Last Name</th>\n",
       "      <th>First Name</th>\n",
       "      <th>Gender</th>\n",
       "      <th>Line 1 Street Address</th>\n",
       "      <th>City</th>\n",
       "      <th>State</th>\n",
       "      <th>Zip Code</th>\n",
       "      <th>Phone Number</th>\n",
       "      <th>Overall Rating</th>\n",
       "    </tr>\n",
       "  </thead>\n",
       "  <tbody>\n",
       "    <tr>\n",
       "      <th>0</th>\n",
       "      <td>1003004573</td>\n",
       "      <td>6103963236</td>\n",
       "      <td>OSETSKY</td>\n",
       "      <td>JOANNE</td>\n",
       "      <td>F</td>\n",
       "      <td>7320 216TH ST SW</td>\n",
       "      <td>EDMONDS</td>\n",
       "      <td>WA</td>\n",
       "      <td>980268006</td>\n",
       "      <td>2.063203e+09</td>\n",
       "      <td>34.500000</td>\n",
       "    </tr>\n",
       "    <tr>\n",
       "      <th>1</th>\n",
       "      <td>1003013236</td>\n",
       "      <td>42305245</td>\n",
       "      <td>OSTASZEWSKI</td>\n",
       "      <td>MARY</td>\n",
       "      <td>F</td>\n",
       "      <td>4720 NELSON BROGDON BLVD</td>\n",
       "      <td>SUGAR HILL</td>\n",
       "      <td>GA</td>\n",
       "      <td>305183480</td>\n",
       "      <td>7.709452e+09</td>\n",
       "      <td>94.166667</td>\n",
       "    </tr>\n",
       "    <tr>\n",
       "      <th>2</th>\n",
       "      <td>1003015140</td>\n",
       "      <td>7416039250</td>\n",
       "      <td>BAUER</td>\n",
       "      <td>JENNY</td>\n",
       "      <td>F</td>\n",
       "      <td>5435 FELTL RD</td>\n",
       "      <td>MINNETONKA</td>\n",
       "      <td>MN</td>\n",
       "      <td>553437983</td>\n",
       "      <td>9.528360e+09</td>\n",
       "      <td>30.000000</td>\n",
       "    </tr>\n",
       "    <tr>\n",
       "      <th>3</th>\n",
       "      <td>1003021700</td>\n",
       "      <td>4183770530</td>\n",
       "      <td>GUERRA</td>\n",
       "      <td>SUSAN</td>\n",
       "      <td>F</td>\n",
       "      <td>2106 NEW RD</td>\n",
       "      <td>LINWOOD</td>\n",
       "      <td>NJ</td>\n",
       "      <td>82211050</td>\n",
       "      <td>6.099269e+09</td>\n",
       "      <td>40.000000</td>\n",
       "    </tr>\n",
       "    <tr>\n",
       "      <th>4</th>\n",
       "      <td>1003041104</td>\n",
       "      <td>941332738</td>\n",
       "      <td>O'CALLAGHAN</td>\n",
       "      <td>BARBARA</td>\n",
       "      <td>F</td>\n",
       "      <td>1000 MEDICAL CTR BLVD</td>\n",
       "      <td>LAWRENCEVILLE</td>\n",
       "      <td>GA</td>\n",
       "      <td>300467694</td>\n",
       "      <td>6.784426e+09</td>\n",
       "      <td>100.000000</td>\n",
       "    </tr>\n",
       "  </tbody>\n",
       "</table>\n",
       "</div>"
      ],
      "text/plain": [
       "          NPI      PAC ID    Last Name First Name Gender  \\\n",
       "0  1003004573  6103963236      OSETSKY     JOANNE      F   \n",
       "1  1003013236    42305245  OSTASZEWSKI       MARY      F   \n",
       "2  1003015140  7416039250        BAUER      JENNY      F   \n",
       "3  1003021700  4183770530       GUERRA      SUSAN      F   \n",
       "4  1003041104   941332738  O'CALLAGHAN    BARBARA      F   \n",
       "\n",
       "      Line 1 Street Address           City State   Zip Code  Phone Number  \\\n",
       "0          7320 216TH ST SW        EDMONDS    WA  980268006  2.063203e+09   \n",
       "1  4720 NELSON BROGDON BLVD     SUGAR HILL    GA  305183480  7.709452e+09   \n",
       "2             5435 FELTL RD     MINNETONKA    MN  553437983  9.528360e+09   \n",
       "3               2106 NEW RD        LINWOOD    NJ   82211050  6.099269e+09   \n",
       "4     1000 MEDICAL CTR BLVD  LAWRENCEVILLE    GA  300467694  6.784426e+09   \n",
       "\n",
       "   Overall Rating  \n",
       "0       34.500000  \n",
       "1       94.166667  \n",
       "2       30.000000  \n",
       "3       40.000000  \n",
       "4      100.000000  "
      ]
     },
     "execution_count": 3,
     "metadata": {},
     "output_type": "execute_result"
    }
   ],
   "source": [
    "df.head()"
   ]
  },
  {
   "cell_type": "code",
   "execution_count": 4,
   "id": "fce38eeb",
   "metadata": {},
   "outputs": [
    {
     "name": "stdout",
     "output_type": "stream",
     "text": [
      "<class 'pandas.core.frame.DataFrame'>\n",
      "RangeIndex: 10829 entries, 0 to 10828\n",
      "Data columns (total 11 columns):\n",
      " #   Column                 Non-Null Count  Dtype  \n",
      "---  ------                 --------------  -----  \n",
      " 0   NPI                    10829 non-null  int64  \n",
      " 1   PAC ID                 10829 non-null  int64  \n",
      " 2   Last Name              10829 non-null  object \n",
      " 3   First Name             10829 non-null  object \n",
      " 4   Gender                 10829 non-null  object \n",
      " 5   Line 1 Street Address  10829 non-null  object \n",
      " 6   City                   10829 non-null  object \n",
      " 7   State                  10829 non-null  object \n",
      " 8   Zip Code               10829 non-null  int64  \n",
      " 9   Phone Number           10134 non-null  float64\n",
      " 10  Overall Rating         10829 non-null  float64\n",
      "dtypes: float64(2), int64(3), object(6)\n",
      "memory usage: 930.7+ KB\n"
     ]
    }
   ],
   "source": [
    "df.info()"
   ]
  },
  {
   "cell_type": "code",
   "execution_count": 5,
   "id": "14cc0b5e",
   "metadata": {},
   "outputs": [],
   "source": [
    "df = df.rename(columns={'Zip Code': 'Zip_Code', 'Overall Rating': 'Overall_Rating','Last Name':'Last_Name','Phone Number':'Phone_Number'})"
   ]
  },
  {
   "cell_type": "code",
   "execution_count": 6,
   "id": "178f00e1",
   "metadata": {},
   "outputs": [
    {
     "data": {
      "text/html": [
       "<div>\n",
       "<style scoped>\n",
       "    .dataframe tbody tr th:only-of-type {\n",
       "        vertical-align: middle;\n",
       "    }\n",
       "\n",
       "    .dataframe tbody tr th {\n",
       "        vertical-align: top;\n",
       "    }\n",
       "\n",
       "    .dataframe thead th {\n",
       "        text-align: right;\n",
       "    }\n",
       "</style>\n",
       "<table border=\"1\" class=\"dataframe\">\n",
       "  <thead>\n",
       "    <tr style=\"text-align: right;\">\n",
       "      <th></th>\n",
       "      <th>NPI</th>\n",
       "      <th>PAC ID</th>\n",
       "      <th>Last_Name</th>\n",
       "      <th>First Name</th>\n",
       "      <th>Gender</th>\n",
       "      <th>Line 1 Street Address</th>\n",
       "      <th>City</th>\n",
       "      <th>State</th>\n",
       "      <th>Zip_Code</th>\n",
       "      <th>Phone_Number</th>\n",
       "      <th>Overall_Rating</th>\n",
       "    </tr>\n",
       "  </thead>\n",
       "  <tbody>\n",
       "    <tr>\n",
       "      <th>0</th>\n",
       "      <td>1003004573</td>\n",
       "      <td>6103963236</td>\n",
       "      <td>OSETSKY</td>\n",
       "      <td>JOANNE</td>\n",
       "      <td>F</td>\n",
       "      <td>7320 216TH ST SW</td>\n",
       "      <td>EDMONDS</td>\n",
       "      <td>WA</td>\n",
       "      <td>980268006</td>\n",
       "      <td>2.063203e+09</td>\n",
       "      <td>34.500000</td>\n",
       "    </tr>\n",
       "    <tr>\n",
       "      <th>1</th>\n",
       "      <td>1003013236</td>\n",
       "      <td>42305245</td>\n",
       "      <td>OSTASZEWSKI</td>\n",
       "      <td>MARY</td>\n",
       "      <td>F</td>\n",
       "      <td>4720 NELSON BROGDON BLVD</td>\n",
       "      <td>SUGAR HILL</td>\n",
       "      <td>GA</td>\n",
       "      <td>305183480</td>\n",
       "      <td>7.709452e+09</td>\n",
       "      <td>94.166667</td>\n",
       "    </tr>\n",
       "    <tr>\n",
       "      <th>2</th>\n",
       "      <td>1003015140</td>\n",
       "      <td>7416039250</td>\n",
       "      <td>BAUER</td>\n",
       "      <td>JENNY</td>\n",
       "      <td>F</td>\n",
       "      <td>5435 FELTL RD</td>\n",
       "      <td>MINNETONKA</td>\n",
       "      <td>MN</td>\n",
       "      <td>553437983</td>\n",
       "      <td>9.528360e+09</td>\n",
       "      <td>30.000000</td>\n",
       "    </tr>\n",
       "    <tr>\n",
       "      <th>3</th>\n",
       "      <td>1003021700</td>\n",
       "      <td>4183770530</td>\n",
       "      <td>GUERRA</td>\n",
       "      <td>SUSAN</td>\n",
       "      <td>F</td>\n",
       "      <td>2106 NEW RD</td>\n",
       "      <td>LINWOOD</td>\n",
       "      <td>NJ</td>\n",
       "      <td>82211050</td>\n",
       "      <td>6.099269e+09</td>\n",
       "      <td>40.000000</td>\n",
       "    </tr>\n",
       "    <tr>\n",
       "      <th>4</th>\n",
       "      <td>1003041104</td>\n",
       "      <td>941332738</td>\n",
       "      <td>O'CALLAGHAN</td>\n",
       "      <td>BARBARA</td>\n",
       "      <td>F</td>\n",
       "      <td>1000 MEDICAL CTR BLVD</td>\n",
       "      <td>LAWRENCEVILLE</td>\n",
       "      <td>GA</td>\n",
       "      <td>300467694</td>\n",
       "      <td>6.784426e+09</td>\n",
       "      <td>100.000000</td>\n",
       "    </tr>\n",
       "  </tbody>\n",
       "</table>\n",
       "</div>"
      ],
      "text/plain": [
       "          NPI      PAC ID    Last_Name First Name Gender  \\\n",
       "0  1003004573  6103963236      OSETSKY     JOANNE      F   \n",
       "1  1003013236    42305245  OSTASZEWSKI       MARY      F   \n",
       "2  1003015140  7416039250        BAUER      JENNY      F   \n",
       "3  1003021700  4183770530       GUERRA      SUSAN      F   \n",
       "4  1003041104   941332738  O'CALLAGHAN    BARBARA      F   \n",
       "\n",
       "      Line 1 Street Address           City State   Zip_Code  Phone_Number  \\\n",
       "0          7320 216TH ST SW        EDMONDS    WA  980268006  2.063203e+09   \n",
       "1  4720 NELSON BROGDON BLVD     SUGAR HILL    GA  305183480  7.709452e+09   \n",
       "2             5435 FELTL RD     MINNETONKA    MN  553437983  9.528360e+09   \n",
       "3               2106 NEW RD        LINWOOD    NJ   82211050  6.099269e+09   \n",
       "4     1000 MEDICAL CTR BLVD  LAWRENCEVILLE    GA  300467694  6.784426e+09   \n",
       "\n",
       "   Overall_Rating  \n",
       "0       34.500000  \n",
       "1       94.166667  \n",
       "2       30.000000  \n",
       "3       40.000000  \n",
       "4      100.000000  "
      ]
     },
     "execution_count": 6,
     "metadata": {},
     "output_type": "execute_result"
    }
   ],
   "source": [
    "df.head()"
   ]
  },
  {
   "cell_type": "code",
   "execution_count": 7,
   "id": "c3241424",
   "metadata": {},
   "outputs": [],
   "source": [
    "df[\"Zip_Code\"] = df[\"Zip_Code\"].astype(str)"
   ]
  },
  {
   "cell_type": "code",
   "execution_count": 8,
   "id": "b440ee63",
   "metadata": {},
   "outputs": [
    {
     "name": "stderr",
     "output_type": "stream",
     "text": [
      "C:\\Users\\shash\\AppData\\Local\\Temp\\ipykernel_33744\\1630961007.py:2: FutureWarning: Indexing with multiple keys (implicitly converted to a tuple of keys) will be deprecated, use a list instead.\n",
      "  grouped = df.groupby([\"Zip_Code\", \"Overall_Rating\"])[\"Last_Name\", \"Phone_Number\",\"Gender\"] \\\n"
     ]
    }
   ],
   "source": [
    "# Step 2: Grouping the data by zip code and rating\n",
    "grouped = df.groupby([\"Zip_Code\", \"Overall_Rating\"])[\"Last_Name\", \"Phone_Number\",\"Gender\"] \\\n",
    "          .agg({\"Last_Name\": list, \"Phone_Number\": list,'Gender':list}).reset_index()\n",
    "\n",
    "grouped[\"avg_rating\"] = grouped.groupby(\"Zip_Code\")[\"Overall_Rating\"].transform(\"mean\")"
   ]
  },
  {
   "cell_type": "code",
   "execution_count": 9,
   "id": "ff0c694f",
   "metadata": {},
   "outputs": [],
   "source": [
    "# Step 3: Calculating similarity between nurses\n",
    "features = grouped[[\"Zip_Code\", \"Overall_Rating\", \"avg_rating\"]]\n",
    "X = pd.get_dummies(features)\n",
    "similarity_matrix = cosine_similarity(X)"
   ]
  },
  {
   "cell_type": "code",
   "execution_count": 10,
   "id": "21dd10c1",
   "metadata": {},
   "outputs": [],
   "source": [
    "def recommend_nurses(Zip_Code, top_n=5):\n",
    "    index = grouped[grouped[\"Zip_Code\"] == Zip_Code].index.values[0]\n",
    "    similarity_scores = similarity_matrix[index]\n",
    "    similar_nurses_index = similarity_scores.argsort()[::-1][1:top_n+1]\n",
    "    similar_nurses = grouped.loc[similar_nurses_index, [\"Last_Name\", \"Overall_Rating\",\"Phone_Number\",\"Gender\"]]\n",
    "    similar_nurses_sorted = similar_nurses.sort_values(by=\"Overall_Rating\", ascending=False)\n",
    "    return similar_nurses_sorted.to_dict(orient=\"records\")\n"
   ]
  },
  {
   "cell_type": "code",
   "execution_count": 12,
   "id": "0acbfba8",
   "metadata": {},
   "outputs": [
    {
     "name": "stdout",
     "output_type": "stream",
     "text": [
      "[{'Last_Name': ['CAIN'], 'Overall_Rating': 94.0, 'Phone_Number': [8159712000.0], 'Gender': ['F']}, {'Last_Name': ['MCENEANEY'], 'Overall_Rating': 93.3333333333333, 'Phone_Number': [2123054098.0], 'Gender': ['F']}, {'Last_Name': ['BOSTON'], 'Overall_Rating': 92.4, 'Phone_Number': [5023279100.0], 'Gender': ['F']}, {'Last_Name': ['PEYNADO'], 'Overall_Rating': 92.0, 'Phone_Number': [9563896565.0], 'Gender': ['F']}, {'Last_Name': ['TRACY'], 'Overall_Rating': 92.0, 'Phone_Number': [8455614400.0], 'Gender': ['F']}]\n"
     ]
    }
   ],
   "source": [
    "# Call the recommend_doctors function\n",
    "similar_nurses = recommend_nurses(\"305183480\",top_n=5)\n",
    "print(similar_nurses)\n"
   ]
  },
  {
   "cell_type": "code",
   "execution_count": null,
   "id": "3fbffb4c",
   "metadata": {},
   "outputs": [],
   "source": []
  },
  {
   "cell_type": "code",
   "execution_count": null,
   "id": "8e58f537",
   "metadata": {},
   "outputs": [],
   "source": []
  },
  {
   "cell_type": "code",
   "execution_count": null,
   "id": "ab253f56",
   "metadata": {},
   "outputs": [],
   "source": []
  }
 ],
 "metadata": {
  "kernelspec": {
   "display_name": "Python 3 (ipykernel)",
   "language": "python",
   "name": "python3"
  },
  "language_info": {
   "codemirror_mode": {
    "name": "ipython",
    "version": 3
   },
   "file_extension": ".py",
   "mimetype": "text/x-python",
   "name": "python",
   "nbconvert_exporter": "python",
   "pygments_lexer": "ipython3",
   "version": "3.9.12"
  }
 },
 "nbformat": 4,
 "nbformat_minor": 5
}
